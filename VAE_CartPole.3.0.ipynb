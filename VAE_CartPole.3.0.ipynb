{
 "cells": [
  {
   "cell_type": "markdown",
   "metadata": {},
   "source": [
    "# Modify VAE_CartPole.2.1 from one frame into temporal process.\n",
    "\n",
    "Ref: *pytorch-mnist-VAE-master, VAE_CartPole.2.1*"
   ]
  },
  {
   "cell_type": "code",
   "execution_count": 1,
   "metadata": {},
   "outputs": [
    {
     "name": "stdout",
     "output_type": "stream",
     "text": [
      "cuda:0\n"
     ]
    }
   ],
   "source": [
    "# for VAE\n",
    "import torch\n",
    "import torch.nn as nn\n",
    "import torch.nn.functional as F\n",
    "import torch.optim as optim\n",
    "from torchvision import datasets, transforms\n",
    "from torch.autograd import Variable\n",
    "from torchvision.utils import save_image\n",
    "\n",
    "# for Gym env\n",
    "import pickle\n",
    "import gym\n",
    "import math\n",
    "import random\n",
    "import numpy as np\n",
    "import matplotlib\n",
    "import matplotlib.pyplot as plt\n",
    "from collections import namedtuple\n",
    "from itertools import count\n",
    "from PIL import Image\n",
    "import torchvision\n",
    "import torchvision.transforms as T\n",
    "\n",
    "import ipdb\n",
    "\n",
    "bs = 32\n",
    "env = gym.make('CartPole-v0').unwrapped\n",
    "\n",
    "# set up matplotlib\n",
    "is_ipython = 'inline' in matplotlib.get_backend()\n",
    "if is_ipython:\n",
    "    from IPython import display\n",
    "    \n",
    "plt.ion()\n",
    "\n",
    "device = torch.device('cuda:0' if torch.cuda.is_available() else 'cpu')\n",
    "print(device)"
   ]
  },
  {
   "cell_type": "markdown",
   "metadata": {},
   "source": [
    "# Extract screemshot for cartpole env, form train-valid dataset CartPole_data.\n",
    "\n",
    "Ref: *DQN_CartPole.ipynb*"
   ]
  },
  {
   "cell_type": "code",
   "execution_count": 2,
   "metadata": {},
   "outputs": [],
   "source": [
    "Transition = namedtuple('Transition',\n",
    "                        ('state', 'action', 'next_state', 'reward'))\n",
    "\n",
    "\n",
    "class CartPole_data(object):\n",
    "    \n",
    "    def __init__(self, file_name, capacity=1):\n",
    "        self.capacity = capacity\n",
    "        self.memory = []\n",
    "        self.position = 0\n",
    "        self.file_name = file_name\n",
    "        \n",
    "    def push(self, *args):\n",
    "        \"\"\"Saves a transition.\"\"\"\n",
    "        if len(self.memory) < self.capacity:\n",
    "            self.memory.append(None)\n",
    "        self.memory[self.position] = Transition(*args)\n",
    "        self.position = (self.position + 1) % self.capacity\n",
    "        \n",
    "    def save(self):\n",
    "        with open(self.file_name, 'wb') as file:\n",
    "            pickle.dump(self.memory, file)\n",
    "            \n",
    "    def load(self):\n",
    "        with open(self.file_name, 'rb') as file:\n",
    "            self.memory = pickle.load(file)\n",
    "        \n",
    "    def sample(self, batch_size, h):\n",
    "#         if len(self.memory) < self.capacity:\n",
    "#             print(len(self.memory))\n",
    "#             print(self.capacity)\n",
    "#             self.load()\n",
    "#             print('loaded')\n",
    "#             print(len(self.memory))\n",
    "        \n",
    "        # randomly sample a batch of time series data, with horizon h\n",
    "        samples = []\n",
    "#         dones = []\n",
    "        i = batch_size\n",
    "        while(i > 0):\n",
    "            done = False\n",
    "            index = random.randint(0, len(self.memory) - 1 - h)\n",
    "            for triple in self.memory[index : index + h]:\n",
    "                if type(triple.next_state) == type(None):\n",
    "                    done = True\n",
    "                    break\n",
    "            if not done:\n",
    "                i = i - 1\n",
    "                samples = samples + self.memory[index : index + h]\n",
    "#                 dones = dones + [type(triple.next_state) for triple in self.memory[index : index + h]]\n",
    "        return samples\n",
    "    \n",
    "#             indexs = random.sample(range(len(self.memory)), batch_size)\n",
    "#         return [self.memory(index:index + u) for index in indexs]\n",
    "    \n",
    "    def read(self, batch_size, num):\n",
    "        return self.memory[num * batch_size: (num + 1) * batch_size - 1]\n",
    "    \n",
    "    def __len__(self):\n",
    "        return len(self.memory)\n",
    "    \n",
    "    def get_len(self):\n",
    "        return len(self.memory)"
   ]
  },
  {
   "cell_type": "code",
   "execution_count": 3,
   "metadata": {},
   "outputs": [
    {
     "name": "stderr",
     "output_type": "stream",
     "text": [
      "/usr/local/lib/python3.6/site-packages/ipykernel_launcher.py:2: UserWarning: torch.range is deprecated in favor of torch.arange and will be removed in 0.5. Note that arange generates values in [start; end), not [start; end].\n",
      "  \n"
     ]
    },
    {
     "data": {
      "text/plain": [
       "torch.Tensor"
      ]
     },
     "execution_count": 3,
     "metadata": {},
     "output_type": "execute_result"
    }
   ],
   "source": [
    "a = None\n",
    "b = torch.range(0,10)\n",
    "type(b)"
   ]
  },
  {
   "cell_type": "code",
   "execution_count": 4,
   "metadata": {},
   "outputs": [
    {
     "data": {
      "text/plain": [
       "[1, 2, 3]"
      ]
     },
     "execution_count": 4,
     "metadata": {},
     "output_type": "execute_result"
    }
   ],
   "source": [
    "a = list(range(10))\n",
    "b = [0, 5]\n",
    "\n",
    "[a[index : index + 4] for index in b]\n",
    "c = []\n",
    "c = c + a[1:4]\n",
    "c"
   ]
  },
  {
   "cell_type": "code",
   "execution_count": 5,
   "metadata": {},
   "outputs": [],
   "source": [
    "resize = T.Compose([T.ToPILImage(),\n",
    "                    T.Resize(40, interpolation=Image.CUBIC),\n",
    "                    T.ToTensor()])\n",
    "\n",
    "\n",
    "def get_cart_location(screen_width):\n",
    "    world_width = env.x_threshold * 2\n",
    "    scale = screen_width / world_width\n",
    "    return int(env.state[0] * scale + screen_width / 2.0)  # MIDDLE OF CART\n",
    "\n",
    "def get_screen():\n",
    "    # Returned screen requested by gym is 400x600x3, but is sometimes larger\n",
    "    # such as 800x1200x3. Transpose it into torch order (CHW).\n",
    "    screen = env.render(mode='rgb_array').transpose((2, 0, 1))\n",
    "    # Cart is in the lower half, so strip off the top and bottom of the screen\n",
    "    _, screen_height, screen_width = screen.shape\n",
    "    screen = screen[:, int(screen_height*0.4):int(screen_height * 0.8)]\n",
    "    view_width = int(screen_width * 0.6)\n",
    "    \n",
    "#     cart_location = get_cart_location(screen_width)\n",
    "#     if cart_location < view_width // 2:\n",
    "#         slice_range = slice(view_width)\n",
    "#     elif cart_location > (screen_width - view_width // 2):\n",
    "#         slice_range = slice(-view_width, None)\n",
    "#     else:\n",
    "#         slice_range = slice(cart_location - view_width // 2,\n",
    "#                             cart_location + view_width // 2)\n",
    "\n",
    "    slice_range = slice((screen_width - view_width) // 2,\n",
    "                        (screen_width + view_width) // 2)\n",
    "    \n",
    "    # Strip off the edges, so that we have a square image centered on a cart\n",
    "    screen = screen[:, :, slice_range]\n",
    "    # Convert to float, rescale, convert to torch tensor\n",
    "    # (this doesn't require a copy)\n",
    "    screen = np.ascontiguousarray(screen, dtype=np.float32) / 255\n",
    "    screen = screen.mean(axis=0)\n",
    "    screen = torch.from_numpy(screen)\n",
    "    # Resize, and add a batch dimension (BCHW)\n",
    "    return resize(screen).unsqueeze(0).to(device)"
   ]
  },
  {
   "cell_type": "code",
   "execution_count": 6,
   "metadata": {},
   "outputs": [
    {
     "name": "stdout",
     "output_type": "stream",
     "text": [
      "screen shot size:  torch.Size([1, 1, 40, 90])\n",
      "img_flatten_size:  3600\n"
     ]
    },
    {
     "data": {
      "image/png": "[encoded data removed]",
      "text/plain": [
       "<Figure size 432x288 with 1 Axes>"
      ]
     },
     "metadata": {
      "needs_background": "light"
     },
     "output_type": "display_data"
    }
   ],
   "source": [
    "env.reset()\n",
    "plt.figure()\n",
    "plt.imshow(get_screen().cpu()[0,0,:].numpy(), cmap='gray')\n",
    "img_flatten_size = get_screen().shape[2] * get_screen().shape[3]\n",
    "print('screen shot size: ', get_screen().shape)\n",
    "img_width = get_screen().shape[3]\n",
    "print('img_flatten_size: ', img_flatten_size)\n",
    "plt.title('Example extracted screen')\n",
    "plt.show()"
   ]
  },
  {
   "cell_type": "code",
   "execution_count": 7,
   "metadata": {},
   "outputs": [],
   "source": [
    "def data_generation(file_name='CartPole_data_1e5_cart_pole.txt', capacity=1e5, load=False, sample_t=4):\n",
    "    n_actions = env.action_space.n\n",
    "    memory = CartPole_data(file_name, capacity)\n",
    "    \n",
    "    if load:\n",
    "        memory.load()\n",
    "        return memory\n",
    "    \n",
    "    thre = 0\n",
    "    \n",
    "    while memory.get_len() < capacity:\n",
    "        # Initialize the environment and state\n",
    "        env.reset()\n",
    "        state = get_screen()\n",
    "        \n",
    "        for t in count():\n",
    "            # Select and perform an action\n",
    "            action = torch.tensor([[random.randrange(n_actions)]], device=device, dtype=torch.long)\n",
    "            _, reward, done, _ = env.step(action.item())\n",
    "            reward = torch.tensor([reward], device=device)\n",
    "\n",
    "            if t > 80:\n",
    "                done = True\n",
    "                \n",
    "            if done:\n",
    "                next_state = None\n",
    "            \n",
    "            if t % sample_t == sample_t - 1 or done:\n",
    "                if not done:\n",
    "                    next_state = get_screen()\n",
    "                # Store the transition in memory\n",
    "                memory.push(state, action, next_state, reward)\n",
    "                # Move to the next state\n",
    "                state = next_state\n",
    "            \n",
    "            if done:\n",
    "                if memory.get_len() > thre:\n",
    "                    thre += capacity//10\n",
    "                    print('\\rEpisode {}\\tIt Last: {}'.format(memory.get_len() + 1, t + 1))\n",
    "                    print(thre)\n",
    "                break\n",
    "\n",
    "    memory.save()\n",
    "    print('------Complete-----')\n",
    "    env.render()\n",
    "    env.close()\n",
    "    print(type(memory))\n",
    "    return memory"
   ]
  },
  {
   "cell_type": "markdown",
   "metadata": {},
   "source": [
    "## Loading or generating training and testing data"
   ]
  },
  {
   "cell_type": "code",
   "execution_count": 8,
   "metadata": {},
   "outputs": [],
   "source": [
    "# train_data = data_generation(file_name='CartPole_data_1e5_cart_pole.txt', num_episodes=50000)\n",
    "# train_data = data_generation(file_name='CartPole_data_3e4_cart_pole.txt', load=True)\n",
    "train_data = data_generation(file_name='CartPole_data_1e3_st5.txt', load=True)\n",
    "# train_data = data_generation(file_name='CartPole_data_1e5_st5.txt', load=True)\n",
    "# train_data = data_generation(file_name='CartPole_data_test_5e3_cart_pole.txt', load=True)\n",
    "# test_data = data_generation(file_name='CartPole_data_test_5e3_cart_pole.txt', num_episodes=2500)\n",
    "# test_data = data_generation(file_name='CartPole_data_test_1e3_cart_pole.txt', load=True)\n",
    "test_data = []"
   ]
  },
  {
   "cell_type": "code",
   "execution_count": 9,
   "metadata": {},
   "outputs": [
    {
     "data": {
      "text/plain": [
       "__main__.CartPole_data"
      ]
     },
     "execution_count": 9,
     "metadata": {},
     "output_type": "execute_result"
    }
   ],
   "source": [
    "type(train_data)"
   ]
  },
  {
   "cell_type": "markdown",
   "metadata": {},
   "source": [
    "## Variational Auto Encoder"
   ]
  },
  {
   "cell_type": "code",
   "execution_count": 22,
   "metadata": {},
   "outputs": [],
   "source": [
    "class VAE(nn.Module):\n",
    "    def __init__(self, h, x_dim=10, h_dim1=10, h_dim2=10, z_dim=10):\n",
    "        super(VAE, self).__init__()\n",
    "        \n",
    "#         x_dim = x_dim / h    # devide x into h channels\n",
    "        \n",
    "        # encoder part\n",
    "        self.fc1 = nn.Linear(x_dim, h_dim1)\n",
    "        self.fc2 = nn.Linear(h_dim1, h_dim2)\n",
    "        self.fc31 = nn.Linear(h_dim2, z_dim)\n",
    "        self.fc32 = nn.Linear(h_dim2, z_dim)\n",
    "        # decoder part\n",
    "        self.fc4 = nn.Linear(z_dim, h_dim2)\n",
    "        self.fc5 = nn.Linear(h_dim2, h_dim1)\n",
    "        self.fc61 = nn.Linear(h_dim1, x_dim)\n",
    "        self.fc62 = nn.Linear(h_dim1, x_dim)\n",
    "        # latent variable transform part\n",
    "        self.fc7 = nn.Linear(z_dim * (h - 1), z_dim)    # mu\n",
    "        self.fc8 = nn.Linear(z_dim, z_dim)    # sigma\n",
    "        \n",
    "    def encoder(self, x):\n",
    "        h = F.relu(self.fc1(x))\n",
    "        h = F.relu(self.fc2(h))\n",
    "        return self.fc31(h), self.fc32(h) # mu_e, log_var_e\n",
    "    \n",
    "    def decoder(self, z):\n",
    "        h = F.relu(self.fc4(z))\n",
    "        h = F.relu(self.fc5(h))\n",
    "        return F.sigmoid(self.fc61(h)), self.fc62(h) # mu_d, log_var_d\n",
    "    \n",
    "    def mu_t(self, z_bs):\n",
    "        return self.fc7(z_bs)\n",
    "    \n",
    "    def log_var_t(self):\n",
    "        return self.fc8(torch.ones(z_dim).to(device))    #???\n",
    "    \n",
    "    def sampling(self, mu, log_var):\n",
    "        std = torch.exp(0.5*log_var)\n",
    "        eps = torch.randn_like(std)\n",
    "        return eps.mul(std).add_(mu) # return z sample\n",
    "    \n",
    "    def forward(self, x):\n",
    "        mu_e, log_var_e = self.encoder(x.view(-1, img_flatten_size))\n",
    "        z = self.sampling(mu_e, log_var_e)\n",
    "        mu_d, log_var_d = self.decoder(z)\n",
    "        mu_t = self.mu_t(torch.index_select(z.view(bs, -1), 1, torch.arange(0, z_dim * (h - 1)).long().to(device)))\n",
    "        return mu_e, log_var_e, mu_d, log_var_d, \\\n",
    "               mu_t, self.log_var_t()"
   ]
  },
  {
   "cell_type": "code",
   "execution_count": 11,
   "metadata": {},
   "outputs": [
    {
     "name": "stdout",
     "output_type": "stream",
     "text": [
      "Variational bottleneck for temperal sequence.\n"
     ]
    }
   ],
   "source": [
    "beta = 20\n",
    "is_temperal = True\n",
    "\n",
    "# Variational bottleneck for temperal sequence\n",
    "if is_temperal:\n",
    "    print(\"Variational bottleneck for temperal sequence.\")\n",
    "    def loss_function(x, mu_e, log_var_e, mu_d, log_var_d, mu_t, log_var_t):\n",
    "#         # reconstruction error\n",
    "#         ReconL = -0.5 * ((x - mu_d) * (x - mu_d) / log_var_d.exp()).sum()\n",
    "        # reconstruction error\n",
    "        ReconL = -F.binary_cross_entropy(mu_d, x.view(-1, img_flatten_size), reduction='sum')\n",
    "        # entropy\n",
    "#         betaH = \n",
    "        #KL\n",
    "        betaKL = 0.5 * beta * ((1 + log_var_e).sum() -  (1 + log_var_e[h-1::h]).sum() \\\n",
    "                               - log_var_e.exp().sum() + log_var_e[h-1::h].exp().sum() \\\n",
    "                               - mu_e.pow(2).sum() + mu_e[h-1::h].pow(2).sum())\n",
    "        # transition error\n",
    "#         TransL = 0.5 * beta * (log_var_e[h-1::h] + 1 - log_var_t - (mu_e[h-1::h] - mu_t).pow(2) \\\n",
    "#                                 / log_var_t.exp()).sum()\n",
    "        Elog_p = log_var_e[h-1::h] + 1\n",
    "        Elog_q = log_var_t \\\n",
    "                 +(log_var_e[h-1::h].exp() + mu_e[h-1::h].pow(2) \\\n",
    "                 - 2 * mu_e[h-1::h] * mu_t + mu_t.pow(2)) \\\n",
    "                 / (log_var_t.exp() + 1e-15)\n",
    "        TransL = 0.5 * beta * (Elog_p - Elog_q).sum()\n",
    "#         betaH *= 0\n",
    "#         return -(ReconL + TransL + betaH + betaKL), -ReconL, -TransL, -betaH, -betaKL\n",
    "        return -(ReconL + TransL + betaKL), -ReconL, -TransL, torch.Tensor([0]), -betaKL\n",
    "\n",
    "# Variational bottleneck for i.i.d. data\n",
    "else:\n",
    "    print(\"Variational bottleneck for i.i.d. data.\")\n",
    "    def loss_function(x, mu_e, log_var_e, mu_d, log_var_d, mu_t, log_var_t):\n",
    "        REC = -F.binary_cross_entropy(mu_d, x.view(-1, img_flatten_size), reduction='sum')\n",
    "        KLD = 0.5 * beta * (1 + log_var_e - log_var_e.exp() - mu_e.pow(2)).sum()\n",
    "        return -(REC + KLD), -REC, torch.Tensor([0]), torch.Tensor([0]), -KLD"
   ]
  },
  {
   "cell_type": "code",
   "execution_count": 12,
   "metadata": {},
   "outputs": [
    {
     "name": "stdout",
     "output_type": "stream",
     "text": [
      "tensor([1, 2, 3, 4])\n",
      "tensor([ 1,  4,  9, 16])\n"
     ]
    }
   ],
   "source": [
    "a = torch.arange(1,5)\n",
    "print(a)\n",
    "print(a * a)"
   ]
  },
  {
   "cell_type": "code",
   "execution_count": 13,
   "metadata": {},
   "outputs": [
    {
     "name": "stderr",
     "output_type": "stream",
     "text": [
      "/usr/local/lib/python3.6/site-packages/ipykernel_launcher.py:1: UserWarning: torch.range is deprecated in favor of torch.arange and will be removed in 0.5. Note that arange generates values in [start; end), not [start; end].\n",
      "  \"\"\"Entry point for launching an IPython kernel.\n"
     ]
    },
    {
     "data": {
      "text/plain": [
       "tensor(6.)"
      ]
     },
     "execution_count": 13,
     "metadata": {},
     "output_type": "execute_result"
    }
   ],
   "source": [
    "a = torch.range(1,3)\n",
    "a*a\n",
    "a.sum()"
   ]
  },
  {
   "cell_type": "code",
   "execution_count": 14,
   "metadata": {},
   "outputs": [
    {
     "name": "stdout",
     "output_type": "stream",
     "text": [
      "tensor([ 0.,  1.,  2.,  3.,  4.,  5.,  6.,  7.,  8.,  9., 10., 11., 12.])\n"
     ]
    },
    {
     "name": "stderr",
     "output_type": "stream",
     "text": [
      "/usr/local/lib/python3.6/site-packages/ipykernel_launcher.py:2: UserWarning: torch.range is deprecated in favor of torch.arange and will be removed in 0.5. Note that arange generates values in [start; end), not [start; end].\n",
      "  \n"
     ]
    }
   ],
   "source": [
    "import torch\n",
    "a = torch.range(0,12)\n",
    "a = a[:]\n",
    "print(a)"
   ]
  },
  {
   "cell_type": "code",
   "execution_count": 15,
   "metadata": {},
   "outputs": [],
   "source": [
    "def train(epoch, epochs):\n",
    "    vae.train()\n",
    "    train_loss, recon_loss, trans_loss, betaH_loss, betaKL_loss = 0, 0, 0, 0, 0\n",
    "    capacity = train_data.get_len()\n",
    "    \n",
    "    for batch_idx in range(capacity // bs):\n",
    "#         data = data.cuda()\n",
    "        transitions = train_data.sample(bs, h)\n",
    "        data = torch.cat(Transition(*zip(*transitions)).state)\n",
    "        data = data.to(device)\n",
    "        next_states = torch.cat(Transition(*zip(*transitions)).next_state)\n",
    "        next_states = next_states[h - 1::h].to(device)\n",
    "        optimizer.zero_grad()\n",
    "        \n",
    "        mu_e, log_var_e, mu_d, log_var_d, mu_t, log_var_t = vae(data)\n",
    "        with torch.no_grad():\n",
    "            mu_e_next, log_var_e_next = vae.encoder(next_states.view(-1, img_flatten_size))\n",
    "            z_next = vae.sampling(mu_e_next, log_var_e_next)\n",
    "        loss, ReconL, TransL, betaH, betaKL = \\\n",
    "            loss_function(data.view(-1, img_flatten_size), mu_e, log_var_e, \\\n",
    "                          mu_d, log_var_d, mu_t, log_var_t)\n",
    "\n",
    "        loss.backward()\n",
    "        train_loss += loss.item()\n",
    "        recon_loss += ReconL.item()\n",
    "        trans_loss += TransL.item()\n",
    "        betaH_loss += betaH.item()\n",
    "        betaKL_loss += betaKL.item()\n",
    "        optimizer.step()\n",
    "        \n",
    "    train_loss /= ((capacity // bs)*bs)\n",
    "    recon_loss /= ((capacity // bs)*bs)\n",
    "    trans_loss /= ((capacity // bs)*bs)\n",
    "    betaH_loss /= ((capacity // bs)*bs)\n",
    "    betaKL_loss /= ((capacity // bs)*bs)\n",
    "\n",
    "    if epoch % (epochs // 10) == 0:\n",
    "        print('====> Epoch: {} Average loss: {:.4f}'.format(epoch, train_loss))\n",
    "        print('Total Loss', -loss.item())\n",
    "        print('ReconL, TransL, betaH, betaKL', ReconL.item(), TransL.item(), betaH.item(), betaKL.item())\n",
    "    return train_loss, recon_loss, trans_loss, betaH_loss, betaKL_loss"
   ]
  },
  {
   "cell_type": "code",
   "execution_count": 16,
   "metadata": {},
   "outputs": [],
   "source": [
    "# def test(epoch, epochs):\n",
    "#     vae.eval()\n",
    "#     test_loss= 0\n",
    "#     capacity = test_data.get_len()\n",
    "#     with torch.no_grad():\n",
    "#         for batch_idx in range(capacity // bs):\n",
    "# #         for batch_idx in range(3):\n",
    "# #         data = data.cuda()\n",
    "#             transitions = test_data.read(bs, batch_idx)\n",
    "# #             transitions = test_data.sample(bs)\n",
    "#             data = torch.cat(Transition(*zip(*transitions)).state)\n",
    "#             data = data.to(device)\n",
    "#             recon_batch, mu, log_var = vae(data)\n",
    "#             loss, _, _ = loss_function(recon_batch, data, mu, log_var)\n",
    "#             test_loss += loss.item()\n",
    "#     test_loss = test_loss / ((capacity // bs)*bs)\n",
    "#     if epoch % (epochs // 10) == 0:\n",
    "#         print('====> Test average loss: {:.4f}'.format(test_loss))\n",
    "#     return test_loss"
   ]
  },
  {
   "cell_type": "code",
   "execution_count": 17,
   "metadata": {
    "scrolled": true
   },
   "outputs": [],
   "source": [
    "def train_plot(epochs):\n",
    "    train_test_loss_hist = [[], [], [], [], []]\n",
    "    num = np.arange(0, 5)\n",
    "    \n",
    "    for epoch in range(1, epochs + 1):\n",
    "        train_loss = train(epoch, epochs)\n",
    "#         test_loss = test(epoch, epochs)\n",
    "        for item in num:\n",
    "            train_test_loss_hist[item].append(train_loss[item])\n",
    "        \n",
    "#     for loss in train_test_loss_hist:\n",
    "#         plt.plot(np.arange(1, epochs + 1), loss[:])\n",
    "    plt.plot(np.arange(1, epochs + 1), train_test_loss_hist[0])\n",
    "    plt.plot(np.arange(1, epochs + 1), train_test_loss_hist[1])\n",
    "    plt.plot(np.arange(1, epochs + 1), train_test_loss_hist[2])\n",
    "    plt.plot(np.arange(1, epochs + 1), train_test_loss_hist[4])\n",
    "    plt.title('Loss Function History, z_dim={}'.format(z_dim))\n",
    "#     plt.legend(['train_loss', 'recon_loss', 'trans_loss', 'betaH_loss', 'betaKL_loss'])\n",
    "    plt.legend(['total_loss', 'reconstruction_loss', 'transition_loss', 'KL_loss'])\n",
    "    plt.show()\n",
    "    return train_test_loss_hist"
   ]
  },
  {
   "cell_type": "code",
   "execution_count": 18,
   "metadata": {},
   "outputs": [
    {
     "data": {
      "text/plain": [
       "'2019-08-06 15:52:09'"
      ]
     },
     "execution_count": 18,
     "metadata": {},
     "output_type": "execute_result"
    }
   ],
   "source": [
    "from time import gmtime, strftime\n",
    "strftime(\"%Y-%m-%d %H:%M:%S\", gmtime())"
   ]
  },
  {
   "cell_type": "code",
   "execution_count": 19,
   "metadata": {},
   "outputs": [],
   "source": [
    "# rows = 20\n",
    "# def train_reconstruct():\n",
    "#     # show the random sampled training set\n",
    "#     transitions = test_data.sample(rows ** 2)\n",
    "#     data = torch.cat(Transition(*zip(*transitions)).state)\n",
    "#     save_image(data.view(rows ** 2, 1, 40, img_width), \\\n",
    "#                    './samples/1training_set' + strftime(\"%Y-%m-%d %H:%M:%S\", gmtime()) + '.png', \\\n",
    "#                    nrow=rows)\n",
    "    \n",
    "#     # show the reconstructed imgs correspond to the training set\n",
    "#     data = data.to(device)\n",
    "#     optimizer.zero_grad()\n",
    "#     recon_batch, _, _ = vae(data)\n",
    "#     save_image(recon_batch.view(rows ** 2, 1, 40, img_width), \\\n",
    "#                    './samples/2reconstruction_training' + strftime(\"%Y-%m-%d %H:%M:%S\", gmtime()) + '.png', \\\n",
    "#                    nrow=rows)"
   ]
  },
  {
   "cell_type": "code",
   "execution_count": 20,
   "metadata": {},
   "outputs": [],
   "source": [
    "# train_reconstruct()"
   ]
  },
  {
   "cell_type": "code",
   "execution_count": 23,
   "metadata": {
    "scrolled": true
   },
   "outputs": [
    {
     "name": "stdout",
     "output_type": "stream",
     "text": [
      "====> Epoch: 1 Average loss: 4261.7748\n",
      "Total Loss -73944.5703125\n",
      "ReconL, TransL, betaH, betaKL 70905.8828125 1332.65380859375 0.0 1706.0321044921875\n",
      "====> Epoch: 2 Average loss: 2290.2587\n",
      "Total Loss -74048.8046875\n",
      "ReconL, TransL, betaH, betaKL 72802.109375 820.1691284179688 0.0 426.5240173339844\n",
      "====> Epoch: 3 Average loss: 2213.3451\n",
      "Total Loss -70534.9375\n",
      "ReconL, TransL, betaH, betaKL 69927.8359375 515.7687377929688 0.0 91.33456420898438\n",
      "====> Epoch: 4 Average loss: 2196.9208\n",
      "Total Loss -68438.25\n",
      "ReconL, TransL, betaH, betaKL 67866.703125 522.3682861328125 0.0 49.18263244628906\n",
      "====> Epoch: 5 Average loss: 2159.8134\n",
      "Total Loss -67875.640625\n",
      "ReconL, TransL, betaH, betaKL 67109.796875 543.3793334960938 0.0 222.46029663085938\n",
      "====> Epoch: 6 Average loss: 2110.4121\n",
      "Total Loss -67437.375\n",
      "ReconL, TransL, betaH, betaKL 64847.1171875 694.769775390625 0.0 1895.481201171875\n",
      "====> Epoch: 7 Average loss: 2024.8813\n",
      "Total Loss -64569.37109375\n",
      "ReconL, TransL, betaH, betaKL 61550.48046875 641.6644287109375 0.0 2377.22802734375\n",
      "====> Epoch: 8 Average loss: 1991.4772\n",
      "Total Loss -63310.98828125\n",
      "ReconL, TransL, betaH, betaKL 59504.375 714.384521484375 0.0 3092.23095703125\n",
      "====> Epoch: 9 Average loss: 1941.0739\n",
      "Total Loss -59020.03125\n",
      "ReconL, TransL, betaH, betaKL 54809.02734375 790.4076538085938 0.0 3420.595703125\n",
      "====> Epoch: 10 Average loss: 1879.9304\n",
      "Total Loss -60521.31640625\n",
      "ReconL, TransL, betaH, betaKL 57238.73046875 680.2327880859375 0.0 2602.352294921875\n"
     ]
    },
    {
     "data": {
      "image/png": "[encoded data removed]",
      "text/plain": [
       "<Figure size 432x288 with 1 Axes>"
      ]
     },
     "metadata": {
      "needs_background": "light"
     },
     "output_type": "display_data"
    },
    {
     "name": "stdout",
     "output_type": "stream",
     "text": [
      "time: 3.4253783226013184s\n"
     ]
    }
   ],
   "source": [
    "train_lost_hist = []\n",
    "z_dims = np.array([8])\n",
    "h = 5    # !Note: h is horizon + 1\n",
    "\n",
    "import time\n",
    "\n",
    "tic = time.time()\n",
    "for z_dim in z_dims:\n",
    "    # build model\n",
    "    vae = VAE(h, x_dim=img_flatten_size, h_dim1=512, h_dim2=256, z_dim=z_dim)\n",
    "    vae = vae.to(device)\n",
    "    optimizer = optim.Adam(vae.parameters())\n",
    "    train_plot(10)\n",
    "#     train_lost_hist.append(train_plot(100))\n",
    "#     train_reconstruct()\n",
    "    \n",
    "# plt.plot(np.array(train_lost_hist)[:, :, 0].squeeze().transpose())\n",
    "# plt.title('Train loss for different z_dim')\n",
    "# legend = ['z_dim=' + str(z_dim) for z_dim in z_dims]\n",
    "# plt.legend(legend)\n",
    "# plt.ylim([140, 260])\n",
    "# plt.show()\n",
    "\n",
    "toc = time.time()\n",
    "print(\"time: \" + str(toc - tic) + \"s\")"
   ]
  },
  {
   "cell_type": "code",
   "execution_count": null,
   "metadata": {},
   "outputs": [],
   "source": [
    "import numpy as np\n",
    "import time\n",
    "\n",
    "a = np.random.rand(1000000)\n",
    "b = np.random.rand(1000000)\n",
    "\n",
    "tic = time.time()\n",
    "c = np.dot(a,b)\n",
    "toc = time.time()\n",
    "\n",
    "print(c)\n",
    "print(\"Vectorized version: \" + str(1000*(toc-tic)) + \"ms\")\n",
    "\n",
    "c = 0\n",
    "tic = time.time()\n",
    "for i in range(1000000):\n",
    "    c += a[i]*b[i]\n",
    "toc = time.time()\n",
    "\n",
    "print(c)\n",
    "print(\"For loop: \" + str(1000*(toc-tic)) + \"ms\")"
   ]
  },
  {
   "cell_type": "code",
   "execution_count": null,
   "metadata": {},
   "outputs": [],
   "source": [
    "aa = torch.arange(1,16)\n",
    "print(aa)\n",
    "index = torch.arange(0, 4)\n",
    "print(torch.index_select(aa.view(3, -1), 1, index))\n",
    "print()"
   ]
  },
  {
   "cell_type": "code",
   "execution_count": null,
   "metadata": {},
   "outputs": [],
   "source": [
    "# # plot training loss for all dims\n",
    "# plt.plot(np.array(train_lost_hist)[:, :, 0].squeeze().transpose())\n",
    "# plt.title('Train loss for different z_dim')\n",
    "# legend = ['z_dim=' + str(z_dim) for z_dim in z_dims]\n",
    "# plt.legend(legend)\n",
    "# plt.ylim([140, 260])\n",
    "# plt.show()"
   ]
  },
  {
   "cell_type": "code",
   "execution_count": null,
   "metadata": {},
   "outputs": [],
   "source": [
    "torch.save(vae.state_dict(), 'vae_data1e5_ep100.pt')"
   ]
  },
  {
   "cell_type": "code",
   "execution_count": null,
   "metadata": {},
   "outputs": [],
   "source": [
    "print(\"VAE structure: \\n\", vae)\n",
    "print(\"NN for transistion model: \\n\", list(vae.parameters())[16][:])"
   ]
  },
  {
   "cell_type": "code",
   "execution_count": null,
   "metadata": {
    "scrolled": true
   },
   "outputs": [],
   "source": [
    "# visualization of the training results of the VAE\n",
    "\n",
    "vae.eval()\n",
    "with torch.no_grad():\n",
    "#     transitions, dones = train_data.sample(bs, h)\n",
    "    bs = 1000\n",
    "    transitions = train_data.sample(bs, h)\n",
    "    data = torch.cat(Transition(*zip(*transitions)).state)\n",
    "    data = data.to(device)\n",
    "    mu_e, log_var_e, mu_d, log_var_d, mu_t, log_var_t = vae(data)\n",
    "    loss, ReconL, TransL, betaH, betaKL = \\\n",
    "        loss_function(data.view(-1, img_flatten_size), mu_e, log_var_e, \\\n",
    "                      mu_d, log_var_d, mu_t, log_var_t)\n",
    "#     z_h = vae.sampling(mu_t, log_var_t.repeat(bs,1))\n",
    "#     z_h = vae.sampling(mu_t, torch.ones_like(log_var_t.repeat(bs,1)))\n",
    "#     mu_h, _ = vae.decoder(z_h)\n",
    "    mu_h, _ = vae.decoder(mu_t)\n",
    "    \n",
    "#     print('Error of transistion z: %6.3f' % (((z_h - mu_e[h-1::h]).pow(2).mean() / z_h.pow(2).mean()).item()))\n",
    "    print('Error of transistion mu_t: %6.3f' % (((mu_t - mu_e[h-1::h]).pow(2).mean() / mu_t.pow(2).mean()).item()))\n",
    "    print('Abs Mean value of estimateted z: ',  [round(it, 2) for it in mu_t.abs().mean(0).tolist()])\n",
    "    print('Sigma of estimated z: ',  [round(it, 2) for it in log_var_t.exp().tolist()])\n",
    "    \n",
    "#     cols = bs\n",
    "#     rows = h\n",
    "    rows = 4\n",
    "    cols = h\n",
    "#     print(dones)\n",
    "    fig1 = plt.figure(figsize=(12, 7))\n",
    "    plt.title('Origional images')\n",
    "    for i in range(1, cols*rows + 1):\n",
    "        img = data[i - 1].view(40, 90).to('cpu')\n",
    "        fig1.add_subplot(rows, cols, i)\n",
    "        plt.imshow(img, cmap='gray')\n",
    "    plt.show()\n",
    "    \n",
    "    alpha = 0.5\n",
    "    fig2 = plt.figure(figsize=(12, 7))\n",
    "    plt.title('Reconstruct images')\n",
    "    for i in range(0, cols*rows):\n",
    "        if i % h != h -1:\n",
    "            img = mu_d[i].view(40, 90).to('cpu') #- data[i].view(40, 90).to('cpu') * alpha\n",
    "        else:\n",
    "            img = mu_h[int((i + 1) / h - 1)].view(40, 90).to('cpu') - data[i].view(40, 90).to('cpu') * alpha\n",
    "        fig2.add_subplot(rows, cols, i + 1)\n",
    "        plt.imshow(img, cmap='gray')\n",
    "    plt.show()\n",
    "\n",
    "    fig3 = plt.figure(figsize=(12, 7))\n",
    "    plt.title('Origional images need to be predict')\n",
    "    for i in range(1, cols*rows + 1):\n",
    "        img = data[h * i - 1].view(40, 90).to('cpu')\n",
    "        fig3.add_subplot(rows, cols, i)\n",
    "        plt.imshow(img, cmap='gray')\n",
    "    plt.show()\n",
    "\n",
    "    fig4 = plt.figure(figsize=(12, 7))\n",
    "    plt.title('Predicted images')\n",
    "    for i in range(1, cols*rows + 1):\n",
    "        img = mu_h[i - 1].view(40, 90).to('cpu')\n",
    "        fig4.add_subplot(rows, cols, i)\n",
    "        plt.imshow(img, cmap='gray')\n",
    "    plt.show()"
   ]
  },
  {
   "cell_type": "code",
   "execution_count": null,
   "metadata": {},
   "outputs": [],
   "source": [
    "# visualization for reconstruction when z_dim = 2\n",
    "variance = 4\n",
    "if z_dim == 2:\n",
    "    with torch.no_grad():\n",
    "        x = np.linspace(-variance, variance, rows)\n",
    "        y = np.linspace(-variance, variance, rows)\n",
    "        xv, yv = np.meshgrid(x, y)\n",
    "        z = np.concatenate((xv.reshape(rows ** 2,1),yv.reshape(rows ** 2,1)), axis=1)\n",
    "        z = torch.from_numpy(z).float()\n",
    "        z = z.to(device)\n",
    "        sample = vae.decoder(z)\n",
    "\n",
    "        save_image(sample.view(rows ** 2, 1, 40, img_width), \\\n",
    "                   './samples/3reconstruction_z_dim=2' + strftime(\"%Y-%m-%d %H:%M:%S\", gmtime()) + '.png', \\\n",
    "                   nrow=rows)"
   ]
  },
  {
   "cell_type": "code",
   "execution_count": null,
   "metadata": {},
   "outputs": [],
   "source": [
    "# visualization of mu of randomly sampled training set\n",
    "transitions = train_data.sample(10000)\n",
    "data = torch.cat(Transition(*zip(*transitions)).state)\n",
    "data = data.to(device)\n",
    "vae.eval()\n",
    "with torch.no_grad():\n",
    "    recon_batch, mu, log_var = vae(data)\n",
    "    z = vae.sampling(mu, log_var)\n",
    "    mu = mu.to('cpu')\n",
    "    z = z.to('cpu')\n",
    "    \n",
    "plt.figure(figsize=(10,10))\n",
    "plt.scatter(mu[:, 4], mu[:, 5], label='mu', alpha=0.9, s=1)\n",
    "# plt.scatter(z[:, 0], z[:, 1], label='sample', alpha=0.7, s=1)\n",
    "plt.legend()\n",
    "plt.title('Latent variable distribution')\n",
    "# plt.xlim([-3.5, 3.5])\n",
    "# plt.ylim([-3.5, 3.5])\n",
    "plt.show()"
   ]
  },
  {
   "cell_type": "code",
   "execution_count": null,
   "metadata": {},
   "outputs": [],
   "source": [
    "mu.shape"
   ]
  },
  {
   "cell_type": "code",
   "execution_count": null,
   "metadata": {},
   "outputs": [],
   "source": [
    "# vusualization of reconstruction of randomly sampled z\n",
    "with torch.no_grad():\n",
    "    z = torch.randn(64, z_dim)\n",
    "    z = z.to(device)\n",
    "    sample = vae.decoder(z)\n",
    "    print(sample.shape)\n",
    "    save_image(sample.view(64, 1, 40, img_width), './samples/' + strftime(\"%Y-%m-%d %H:%M:%S\", gmtime()) + '.png')"
   ]
  },
  {
   "cell_type": "code",
   "execution_count": null,
   "metadata": {},
   "outputs": [],
   "source": []
  }
 ],
 "metadata": {
  "kernelspec": {
   "display_name": "Python 3",
   "language": "python",
   "name": "python3"
  },
  "language_info": {
   "codemirror_mode": {
    "name": "ipython",
    "version": 3
   },
   "file_extension": ".py",
   "mimetype": "text/x-python",
   "name": "python",
   "nbconvert_exporter": "python",
   "pygments_lexer": "ipython3",
   "version": "3.6.3"
  }
 },
 "nbformat": 4,
 "nbformat_minor": 2
}
